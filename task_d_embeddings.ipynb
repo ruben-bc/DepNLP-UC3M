{
 "cells": [
  {
   "cell_type": "code",
   "execution_count": 1,
   "metadata": {},
   "outputs": [],
   "source": [
    "import os, glob\n",
    "import pandas as pd\n",
    "import numpy as np\n",
    "from utils import print_messages, load_data\n",
    "from transformers import pipeline\n",
    "from transformers import AutoTokenizer, AutoModelForSequenceClassification\n",
    "from datasets import Dataset#, Features, Value, ClassLabel\n",
    "import json\n",
    "import datasets\n",
    "from pathlib import Path\n",
    "from datasets import load_dataset, DatasetDict, Dataset, NamedSplit\n",
    "import matplotlib.pyplot as plt\n"
   ]
  },
  {
   "cell_type": "code",
   "execution_count": 2,
   "metadata": {},
   "outputs": [
    {
     "name": "stderr",
     "output_type": "stream",
     "text": [
      "Found cached dataset parquet (/Users/simon/.cache/huggingface/datasets/nlpUc3mStudents___parquet/nlpUc3mStudents--mental-risk-d-f86708bb810ba078/0.0.0/2a3b91fbd88a2c90d1dbbb32b460cf621d31bd5b05b934492fdef7d8d6f236ec)\n"
     ]
    },
    {
     "data": {
      "application/vnd.jupyter.widget-view+json": {
       "model_id": "31cf0de0c6484117bb60ae280e42d340",
       "version_major": 2,
       "version_minor": 0
      },
      "text/plain": [
       "  0%|          | 0/2 [00:00<?, ?it/s]"
      ]
     },
     "metadata": {},
     "output_type": "display_data"
    }
   ],
   "source": [
    "task = 'd'\n",
    "ds = load_dataset(f'nlpUc3mStudents/mental-risk-{task}')\n",
    "# to pandas\n",
    "train_df = ds['train'].to_pandas()\n",
    "test_df = ds['test'].to_pandas()\n",
    "label_names = train_df.iloc[:,4:].columns.tolist()\n",
    "# concat messages by subject id\n",
    "train_by_subjectid = (\n",
    "    train_df.groupby('subject_id')\n",
    "    .agg({'message': lambda x: ' | '.join(x), **{col: 'first' for col in label_names}})\n",
    "    .reset_index()\n",
    ")\n",
    "test_by_subjectid = (\n",
    "    test_df.groupby('subject_id')\n",
    "    .agg({'message': lambda x: ' | '.join(x), **{col: 'first' for col in label_names}})\n",
    "    .reset_index()\n",
    ")\n",
    "data = pd.concat([train_by_subjectid, test_by_subjectid], axis=0)\n",
    "dataset = Dataset.from_pandas(data)"
   ]
  },
  {
   "attachments": {},
   "cell_type": "markdown",
   "metadata": {},
   "source": [
    "Show if there's imbalance with respect to probabilities of each class greater than the rest"
   ]
  },
  {
   "cell_type": "code",
   "execution_count": 15,
   "metadata": {},
   "outputs": [
    {
     "data": {
      "image/png": "[encoded data removed]",
      "text/plain": [
       "<Figure size 800x400 with 1 Axes>"
      ]
     },
     "metadata": {},
     "output_type": "display_data"
    }
   ],
   "source": [
    "# count of labels greater then a threshold\n",
    "th = 0.25\n",
    "label_counts = data.loc[:,label_names].apply(lambda x: (x > th).sum(), axis=0, result_type='reduce')\n",
    "ax = label_counts.plot.bar(figsize=(8,4), title=f'Count of labels greater than {th}', zorder=2)\n",
    "ax.grid()\n",
    "plt.show()"
   ]
  },
  {
   "attachments": {},
   "cell_type": "markdown",
   "metadata": {},
   "source": [
    "### Using Embeddings for Text Classification/Regression\n",
    "\n",
    "The plan is to first use the embeddings to get a set of features for each text. Then we will use these features to train a classifier/regressor such as a Random Forest or a XGBoost model."
   ]
  },
  {
   "cell_type": "code",
   "execution_count": 3,
   "metadata": {},
   "outputs": [],
   "source": [
    "# Embeddings\n",
    "from sentence_transformers import SentenceTransformer\n",
    "\n",
    "# train a classifier on the embeddings for multiclass regression\n",
    "from sklearn.model_selection import train_test_split\n",
    "from sklearn.metrics import (\n",
    "    r2_score, mean_squared_error,  # regression metrics\n",
    "    accuracy_score, f1_score, precision_score, recall_score # classification metrics\n",
    ")\n",
    "from sklearn.multioutput import MultiOutputRegressor # for multiclass regression\n",
    "\n",
    "# Estimators\n",
    "from sklearn.ensemble import (\n",
    "    RandomForestRegressor, \n",
    "    RandomForestClassifier,\n",
    "    GradientBoostingRegressor,\n",
    "    GradientBoostingClassifier,\n",
    "    AdaBoostRegressor,\n",
    "    AdaBoostClassifier\n",
    ")\n",
    "from sklearn.linear_model import (\n",
    "    LinearRegression, \n",
    "    LogisticRegression,\n",
    "    Ridge,\n",
    "    Lasso\n",
    ")\n",
    "# other regressors\n",
    "from sklearn.svm import SVR\n",
    "from sklearn.neighbors import KNeighborsRegressor\n",
    "from sklearn.neural_network import MLPRegressor\n",
    "from sklearn.tree import DecisionTreeRegressor\n",
    "\n",
    "from lightgbm import LGBMRegressor, LGBMClassifier\n",
    "\n",
    "# type hinting\n",
    "from typing import List, Callable, Dict, Tuple, Any\n",
    "\n",
    "def comp_score(y_true:np.ndarray,y_pred:np.ndarray)->float:\n",
    "    \"\"\"\n",
    "    Metric for multiclass regression. Computes the average of the RMSE scores for each label.\n",
    "    \"\"\"\n",
    "    rmse_scores = []\n",
    "    for i in range(len(label_names)):\n",
    "        rmse_scores.append(np.sqrt(mean_squared_error(y_true[:,i],y_pred[:,i])))\n",
    "    return np.mean(rmse_scores)\n",
    "\n",
    "def estimators_eval(estimators:List[Tuple[str,Any]], score_func:Callable[[np.ndarray, np.ndarray], float]):\n",
    "    def fit_eval_estimators(X_train:np.ndarray, y_train:np.ndarray, X_test:np.ndarray, y_test:np.ndarray) -> dict:\n",
    "        estimator_scores = {}\n",
    "        for name, estimator in estimators:\n",
    "            estimator.fit(X_train, y_train)\n",
    "            y_pred = estimator.predict(X_test)\n",
    "            score = score_func(y_test, y_pred)*(1.4*((y_train>th).sum()/(len(y_train)-1))) # weighted for class imbalance\n",
    "            print(f\"\\\"{name}\\\" estimator score: {score:.4f}\")\n",
    "            estimator_scores[name] = score\n",
    "        return estimator_scores\n",
    "    return fit_eval_estimators\n"
   ]
  },
  {
   "cell_type": "code",
   "execution_count": 4,
   "metadata": {},
   "outputs": [
    {
     "name": "stderr",
     "output_type": "stream",
     "text": [
      "No sentence-transformers model found with name /Users/simon/.cache/torch/sentence_transformers/hackathon-somos-nlp-2023_roberta-base-bne-finetuned-suicide-es. Creating a new one with MEAN pooling.\n",
      "Some weights of the model checkpoint at /Users/simon/.cache/torch/sentence_transformers/hackathon-somos-nlp-2023_roberta-base-bne-finetuned-suicide-es were not used when initializing RobertaModel: ['classifier.out_proj.bias', 'classifier.out_proj.weight', 'classifier.dense.bias', 'classifier.dense.weight']\n",
      "- This IS expected if you are initializing RobertaModel from the checkpoint of a model trained on another task or with another architecture (e.g. initializing a BertForSequenceClassification model from a BertForPreTraining model).\n",
      "- This IS NOT expected if you are initializing RobertaModel from the checkpoint of a model that you expect to be exactly identical (initializing a BertForSequenceClassification model from a BertForSequenceClassification model).\n"
     ]
    }
   ],
   "source": [
    "# get embeddings\n",
    "model_name= 'hackathon-somos-nlp-2023/roberta-base-bne-finetuned-suicide-es'\n",
    "model = SentenceTransformer(model_name) # note: SentenceTransformer from BERTforSequenceClassification (will throw a warning)\n",
    "embeddings = model.encode(data['message'].values.tolist())\n",
    "os.environ[\"TOKENIZERS_PARALLELISM\"] = \"false\""
   ]
  },
  {
   "cell_type": "code",
   "execution_count": 5,
   "metadata": {},
   "outputs": [
    {
     "data": {
      "text/plain": [
       "((157, 768), (28, 768))"
      ]
     },
     "execution_count": 5,
     "metadata": {},
     "output_type": "execute_result"
    }
   ],
   "source": [
    "# split data evenly\n",
    "Y = data.iloc[:, 2:].values.astype(np.float32)\n",
    "labels_to_num_dict = json.load(open('labels_to_num_dict.json'))\n",
    "classes = data.iloc[:,2:].apply(lambda x: x.argmax(),axis=1).replace(dict(enumerate(data.iloc[:,2:].columns)))\n",
    "X_train, X_test, y_train, y_test = train_test_split(\n",
    "    embeddings, Y, \n",
    "    test_size=0.15, \n",
    "    random_state=42, \n",
    "    stratify=classes\n",
    ")\n",
    "X_train.shape, X_test.shape"
   ]
  },
  {
   "cell_type": "code",
   "execution_count": 47,
   "metadata": {},
   "outputs": [
    {
     "name": "stdout",
     "output_type": "stream",
     "text": [
      "\"LinearRegression\" estimator score: 0.4689\n",
      "\"RandomForestRegressor\" estimator score: 0.3693\n",
      "\"LGBMRegressor\" estimator score: 0.3512\n",
      "\"GradientBoostingRegressor\" estimator score: 0.3680\n",
      "\"AdaBoostRegressor\" estimator score: 0.3571\n",
      "\"SVR\" estimator score: 0.3578\n",
      "\"KNeighborsRegressor\" estimator score: 0.3995\n",
      "\"MLPRegressor\" estimator score: 0.3854\n",
      "\"DecisionTreeRegressor\" estimator score: 0.5083\n",
      "\"Lasso\" estimator score: 0.4944\n",
      "\"Ridge\" estimator score: 0.3565\n"
     ]
    },
    {
     "data": {
      "text/plain": [
       "<Axes: title={'center': 'Multi-Regression Scores (lower is better)'}>"
      ]
     },
     "execution_count": 47,
     "metadata": {},
     "output_type": "execute_result"
    },
    {
     "data": {
      "image/png": "[encoded data removed]",
      "text/plain": [
       "<Figure size 800x400 with 1 Axes>"
      ]
     },
     "metadata": {},
     "output_type": "display_data"
    }
   ],
   "source": [
    "# estimators for multi-regression\n",
    "regressors = [\n",
    "    LinearRegression(),\n",
    "    RandomForestRegressor(n_estimators=500),\n",
    "    LGBMRegressor(),\n",
    "    GradientBoostingRegressor(),\n",
    "    AdaBoostRegressor(),\n",
    "    SVR(),\n",
    "    KNeighborsRegressor(),\n",
    "    MLPRegressor(),\n",
    "    DecisionTreeRegressor(),\n",
    "    Lasso(),\n",
    "    Ridge()\n",
    "]\n",
    "multi_regressors = [(reg.__class__.__name__, MultiOutputRegressor(reg)) for reg in regressors]\n",
    "fit_eval = estimators_eval(multi_regressors, comp_score)\n",
    "results = fit_eval(X_train, y_train, X_test, y_test)\n",
    "results_df = pd.DataFrame({reg:[score] for reg,score in results.items()}).T.rename(columns={0:'score'}).sort_values('score',ascending=True)\n",
    "results_df.round(2).plot.bar(figsize=(8,4), title='Multi-Regression Scores (lower is better)', legend=False)"
   ]
  },
  {
   "cell_type": "code",
   "execution_count": 10,
   "metadata": {},
   "outputs": [],
   "source": [
    "from functools import partial\n",
    "# calculate metrics \n",
    "\n",
    "def label_metrics(score_fun, y_true, y_pred):\n",
    "    scores = []\n",
    "    for i in range(len(label_names)):\n",
    "        scores.append(score_fun(y_true[:,i],y_pred[:,i]))\n",
    "    return scores\n",
    "\n",
    "def metrics_for_estimators(estimators, score_fun):\n",
    "    metrics = {}\n",
    "    for name, estimator in estimators:\n",
    "        y_pred = scale_probabilities(estimator.predict(X_test))\n",
    "        metrics[name] = label_metrics(score_fun, y_test, y_pred)\n",
    "    return metrics\n",
    "\n",
    "r2_metrics = metrics_for_estimators(multi_regressors, r2_score)\n",
    "rmse_metrics = metrics_for_estimators(multi_regressors, partial(mean_squared_error, squared=False))\n",
    "\n",
    "r2_df = pd.DataFrame(r2_metrics, index=label_names).loc[:,results_df.index.tolist()].T.rename_axis('r2_class', axis=1)\n",
    "rmse_df = pd.DataFrame(rmse_metrics, index=label_names).loc[:,results_df.index.tolist()].T.rename_axis('rmse_class', axis=1)\n",
    "display(r2_df)\n",
    "display(rmse_df)\n",
    "# r2\tsuffer_in_favour\tsuffer_against\tsuffer_other\tcontrol\n",
    "# ada\t0.409629\t0.286069\t-0.053885\t0.733138\n",
    "# lgbm\t0.407256\t0.315252\t-0.286333\t0.731618\n",
    "# ridge\t0.484130\t0.254723\t-0.038525\t0.670384"
   ]
  },
  {
   "cell_type": "code",
   "execution_count": 7,
   "metadata": {},
   "outputs": [
    {
     "name": "stdout",
     "output_type": "stream",
     "text": [
      "Fitting 3 folds for each of 15 candidates, totalling 45 fits\n",
      "Best score: 0.2708\n",
      "Best params for Ada: {'estimator__learning_rate': 1.0, 'estimator__n_estimators': 250}\n",
      "Fitting 3 folds for each of 80 candidates, totalling 240 fits\n",
      "Best score: 0.2225\n",
      "Best params for Lgbm: {'estimator__learning_rate': 0.01, 'estimator__max_depth': 3, 'estimator__n_estimators': 500}\n",
      "Fitting 3 folds for each of 105 candidates, totalling 315 fits\n",
      "Best score: 0.2762\n",
      "Best params for Ridge: {'estimator__alpha': 3.1623, 'estimator__solver': 'lsqr'}\n"
     ]
    }
   ],
   "source": [
    "# hyperparameter tuning for the 3 best estimators: AdaBoost, LGBM, and Ridge Regression\n",
    "from sklearn.model_selection import GridSearchCV\n",
    "\n",
    "def fit_grid(estimator, param_grid):\n",
    "    grid = GridSearchCV(\n",
    "        estimator=estimator,\n",
    "        param_grid=param_grid,\n",
    "        cv=3,\n",
    "        verbose=1,\n",
    "        n_jobs=-1\n",
    "    )\n",
    "    grid.fit(X_train, y_train)\n",
    "    print(f\"Best score: {grid.best_score_:.4f}\")\n",
    "    return grid.best_estimator_, grid.best_params_\n",
    "\n",
    "# AdaBoost\n",
    "ada_params = {\n",
    "    'estimator__n_estimators': [50, 100, 200, 250, 500],\n",
    "    'estimator__learning_rate': [0.8, 1.0, 1.5]\n",
    "}\n",
    "# LGBM\n",
    "lgbm_params = {\n",
    "    'estimator__n_estimators': [50, 100, 200, 500, 1000],\n",
    "    'estimator__learning_rate': [0.01, 0.1, 0.5, 1.0],\n",
    "    'estimator__max_depth': [3, 5, 7, 9]\n",
    "}\n",
    "# Ridge\n",
    "ridge_params = {\n",
    "    'estimator__alpha': np.logspace(-1, 2, 15).round(4), # alpha is the \n",
    "    'estimator__solver': ['auto', 'svd', 'cholesky', 'lsqr', 'sparse_cg', 'sag', 'saga']\n",
    "}\n",
    "# fit\n",
    "est_params = [('ada', ada_params, AdaBoostRegressor()), ('lgbm', lgbm_params, LGBMRegressor()), ('ridge', ridge_params, Ridge())]\n",
    "gs_dict = {}\n",
    "for name, params, estimator in est_params:\n",
    "    best_estimator, best_params = fit_grid(MultiOutputRegressor(estimator), params)\n",
    "    gs_dict[name] = {\n",
    "        'best_params': best_params,\n",
    "        'best_estimator': best_estimator\n",
    "    }\n",
    "    print(f\"Best params for {name.title()}: {best_params}\")"
   ]
  },
  {
   "cell_type": "code",
   "execution_count": 42,
   "metadata": {},
   "outputs": [
    {
     "data": {
      "text/html": [
       "<div>\n",
       "<style scoped>\n",
       "    .dataframe tbody tr th:only-of-type {\n",
       "        vertical-align: middle;\n",
       "    }\n",
       "\n",
       "    .dataframe tbody tr th {\n",
       "        vertical-align: top;\n",
       "    }\n",
       "\n",
       "    .dataframe thead th {\n",
       "        text-align: right;\n",
       "    }\n",
       "</style>\n",
       "<table border=\"1\" class=\"dataframe\">\n",
       "  <thead>\n",
       "    <tr style=\"text-align: right;\">\n",
       "      <th>r2</th>\n",
       "      <th>suffer_in_favour</th>\n",
       "      <th>suffer_against</th>\n",
       "      <th>suffer_other</th>\n",
       "      <th>control</th>\n",
       "    </tr>\n",
       "  </thead>\n",
       "  <tbody>\n",
       "    <tr>\n",
       "      <th>ada</th>\n",
       "      <td>0.409629</td>\n",
       "      <td>0.286069</td>\n",
       "      <td>-0.053885</td>\n",
       "      <td>0.733138</td>\n",
       "    </tr>\n",
       "    <tr>\n",
       "      <th>lgbm</th>\n",
       "      <td>0.407256</td>\n",
       "      <td>0.315252</td>\n",
       "      <td>-0.286333</td>\n",
       "      <td>0.731618</td>\n",
       "    </tr>\n",
       "    <tr>\n",
       "      <th>ridge</th>\n",
       "      <td>0.484130</td>\n",
       "      <td>0.254723</td>\n",
       "      <td>-0.038525</td>\n",
       "      <td>0.670384</td>\n",
       "    </tr>\n",
       "  </tbody>\n",
       "</table>\n",
       "</div>"
      ],
      "text/plain": [
       "r2     suffer_in_favour  suffer_against  suffer_other   control\n",
       "ada            0.409629        0.286069     -0.053885  0.733138\n",
       "lgbm           0.407256        0.315252     -0.286333  0.731618\n",
       "ridge          0.484130        0.254723     -0.038525  0.670384"
      ]
     },
     "metadata": {},
     "output_type": "display_data"
    },
    {
     "data": {
      "text/html": [
       "<div>\n",
       "<style scoped>\n",
       "    .dataframe tbody tr th:only-of-type {\n",
       "        vertical-align: middle;\n",
       "    }\n",
       "\n",
       "    .dataframe tbody tr th {\n",
       "        vertical-align: top;\n",
       "    }\n",
       "\n",
       "    .dataframe thead th {\n",
       "        text-align: right;\n",
       "    }\n",
       "</style>\n",
       "<table border=\"1\" class=\"dataframe\">\n",
       "  <thead>\n",
       "    <tr style=\"text-align: right;\">\n",
       "      <th>rmse</th>\n",
       "      <th>suffer_in_favour</th>\n",
       "      <th>suffer_against</th>\n",
       "      <th>suffer_other</th>\n",
       "      <th>control</th>\n",
       "    </tr>\n",
       "  </thead>\n",
       "  <tbody>\n",
       "    <tr>\n",
       "      <th>ada</th>\n",
       "      <td>0.213760</td>\n",
       "      <td>0.181662</td>\n",
       "      <td>0.104412</td>\n",
       "      <td>0.206198</td>\n",
       "    </tr>\n",
       "    <tr>\n",
       "      <th>lgbm</th>\n",
       "      <td>0.214190</td>\n",
       "      <td>0.177911</td>\n",
       "      <td>0.115353</td>\n",
       "      <td>0.206784</td>\n",
       "    </tr>\n",
       "    <tr>\n",
       "      <th>ridge</th>\n",
       "      <td>0.199818</td>\n",
       "      <td>0.185607</td>\n",
       "      <td>0.103648</td>\n",
       "      <td>0.229163</td>\n",
       "    </tr>\n",
       "  </tbody>\n",
       "</table>\n",
       "</div>"
      ],
      "text/plain": [
       "rmse   suffer_in_favour  suffer_against  suffer_other   control\n",
       "ada            0.213760        0.181662      0.104412  0.206198\n",
       "lgbm           0.214190        0.177911      0.115353  0.206784\n",
       "ridge          0.199818        0.185607      0.103648  0.229163"
      ]
     },
     "metadata": {},
     "output_type": "display_data"
    }
   ],
   "source": [
    "best_estimators = [(name, gs_dict[name]['best_estimator']) for name in gs_dict.keys()]\n",
    "r2_metrics_best = metrics_for_estimators(best_estimators, r2_score)\n",
    "rmse_metrics_best = metrics_for_estimators(best_estimators, partial(mean_squared_error, squared=False))\n",
    "\n",
    "r2_df_best = pd.DataFrame(r2_metrics_best, index=label_names).T.rename_axis('r2', axis=1)\n",
    "rmse_df_best = pd.DataFrame(rmse_metrics_best, index=label_names).T.rename_axis('rmse', axis=1)\n",
    "display(r2_df_best)\n",
    "display(rmse_df_best)"
   ]
  },
  {
   "cell_type": "code",
   "execution_count": 12,
   "metadata": {},
   "outputs": [
    {
     "data": {
      "text/html": [
       "<div>\n",
       "<style scoped>\n",
       "    .dataframe tbody tr th:only-of-type {\n",
       "        vertical-align: middle;\n",
       "    }\n",
       "\n",
       "    .dataframe tbody tr th {\n",
       "        vertical-align: top;\n",
       "    }\n",
       "\n",
       "    .dataframe thead th {\n",
       "        text-align: right;\n",
       "    }\n",
       "</style>\n",
       "<table border=\"1\" class=\"dataframe\">\n",
       "  <thead>\n",
       "    <tr style=\"text-align: right;\">\n",
       "      <th>r2</th>\n",
       "      <th>suffer_in_favour</th>\n",
       "      <th>suffer_against</th>\n",
       "      <th>suffer_other</th>\n",
       "      <th>control</th>\n",
       "    </tr>\n",
       "  </thead>\n",
       "  <tbody>\n",
       "    <tr>\n",
       "      <th>ada</th>\n",
       "      <td>0.465327</td>\n",
       "      <td>0.396640</td>\n",
       "      <td>0.030650</td>\n",
       "      <td>0.650707</td>\n",
       "    </tr>\n",
       "    <tr>\n",
       "      <th>lgbm</th>\n",
       "      <td>0.528588</td>\n",
       "      <td>0.399890</td>\n",
       "      <td>-0.259651</td>\n",
       "      <td>0.663750</td>\n",
       "    </tr>\n",
       "    <tr>\n",
       "      <th>ridge</th>\n",
       "      <td>0.484121</td>\n",
       "      <td>0.254782</td>\n",
       "      <td>-0.038568</td>\n",
       "      <td>0.670378</td>\n",
       "    </tr>\n",
       "  </tbody>\n",
       "</table>\n",
       "</div>"
      ],
      "text/plain": [
       "r2     suffer_in_favour  suffer_against  suffer_other   control\n",
       "ada            0.465327        0.396640      0.030650  0.650707\n",
       "lgbm           0.528588        0.399890     -0.259651  0.663750\n",
       "ridge          0.484121        0.254782     -0.038568  0.670378"
      ]
     },
     "metadata": {},
     "output_type": "display_data"
    },
    {
     "data": {
      "text/html": [
       "<div>\n",
       "<style scoped>\n",
       "    .dataframe tbody tr th:only-of-type {\n",
       "        vertical-align: middle;\n",
       "    }\n",
       "\n",
       "    .dataframe tbody tr th {\n",
       "        vertical-align: top;\n",
       "    }\n",
       "\n",
       "    .dataframe thead th {\n",
       "        text-align: right;\n",
       "    }\n",
       "</style>\n",
       "<table border=\"1\" class=\"dataframe\">\n",
       "  <thead>\n",
       "    <tr style=\"text-align: right;\">\n",
       "      <th>rmse</th>\n",
       "      <th>suffer_in_favour</th>\n",
       "      <th>suffer_against</th>\n",
       "      <th>suffer_other</th>\n",
       "      <th>control</th>\n",
       "    </tr>\n",
       "  </thead>\n",
       "  <tbody>\n",
       "    <tr>\n",
       "      <th>ada</th>\n",
       "      <td>0.203427</td>\n",
       "      <td>0.167003</td>\n",
       "      <td>0.100137</td>\n",
       "      <td>0.235904</td>\n",
       "    </tr>\n",
       "    <tr>\n",
       "      <th>lgbm</th>\n",
       "      <td>0.191014</td>\n",
       "      <td>0.166553</td>\n",
       "      <td>0.114150</td>\n",
       "      <td>0.231458</td>\n",
       "    </tr>\n",
       "    <tr>\n",
       "      <th>ridge</th>\n",
       "      <td>0.199820</td>\n",
       "      <td>0.185600</td>\n",
       "      <td>0.103650</td>\n",
       "      <td>0.229165</td>\n",
       "    </tr>\n",
       "  </tbody>\n",
       "</table>\n",
       "</div>"
      ],
      "text/plain": [
       "rmse   suffer_in_favour  suffer_against  suffer_other   control\n",
       "ada            0.203427        0.167003      0.100137  0.235904\n",
       "lgbm           0.191014        0.166553      0.114150  0.231458\n",
       "ridge          0.199820        0.185600      0.103650  0.229165"
      ]
     },
     "metadata": {},
     "output_type": "display_data"
    }
   ],
   "source": [
    "best_estimators = [(name, gs_dict[name]['best_estimator']) for name in gs_dict.keys()]\n",
    "r2_metrics_best = metrics_for_estimators(best_estimators, r2_score)\n",
    "rmse_metrics_best = metrics_for_estimators(best_estimators, partial(mean_squared_error, squared=False))\n",
    "\n",
    "r2_df_best = pd.DataFrame(r2_metrics_best, index=label_names).T.rename_axis('r2', axis=1)\n",
    "rmse_df_best = pd.DataFrame(rmse_metrics_best, index=label_names).T.rename_axis('rmse', axis=1)\n",
    "display(r2_df_best)\n",
    "display(rmse_df_best)"
   ]
  },
  {
   "cell_type": "code",
   "execution_count": 16,
   "metadata": {},
   "outputs": [
    {
     "name": "stderr",
     "output_type": "stream",
     "text": [
      "No sentence-transformers model found with name /Users/simon/.cache/torch/sentence_transformers/hackathon-somos-nlp-2023_roberta-base-bne-finetuned-suicide-es. Creating a new one with MEAN pooling.\n",
      "Some weights of the model checkpoint at /Users/simon/.cache/torch/sentence_transformers/hackathon-somos-nlp-2023_roberta-base-bne-finetuned-suicide-es were not used when initializing RobertaModel: ['classifier.out_proj.bias', 'classifier.out_proj.weight', 'classifier.dense.bias', 'classifier.dense.weight']\n",
      "- This IS expected if you are initializing RobertaModel from the checkpoint of a model trained on another task or with another architecture (e.g. initializing a BertForSequenceClassification model from a BertForPreTraining model).\n",
      "- This IS NOT expected if you are initializing RobertaModel from the checkpoint of a model that you expect to be exactly identical (initializing a BertForSequenceClassification model from a BertForSequenceClassification model).\n",
      "No sentence-transformers model found with name /Users/simon/.cache/torch/sentence_transformers/hackathon-somos-nlp-2023_roberta-base-bne-finetuned-suicide-es. Creating a new one with MEAN pooling.\n",
      "Some weights of the model checkpoint at /Users/simon/.cache/torch/sentence_transformers/hackathon-somos-nlp-2023_roberta-base-bne-finetuned-suicide-es were not used when initializing RobertaModel: ['classifier.out_proj.bias', 'classifier.out_proj.weight', 'classifier.dense.bias', 'classifier.dense.weight']\n",
      "- This IS expected if you are initializing RobertaModel from the checkpoint of a model trained on another task or with another architecture (e.g. initializing a BertForSequenceClassification model from a BertForPreTraining model).\n",
      "- This IS NOT expected if you are initializing RobertaModel from the checkpoint of a model that you expect to be exactly identical (initializing a BertForSequenceClassification model from a BertForSequenceClassification model).\n",
      "No sentence-transformers model found with name /Users/simon/.cache/torch/sentence_transformers/hackathon-somos-nlp-2023_roberta-base-bne-finetuned-suicide-es. Creating a new one with MEAN pooling.\n",
      "Some weights of the model checkpoint at /Users/simon/.cache/torch/sentence_transformers/hackathon-somos-nlp-2023_roberta-base-bne-finetuned-suicide-es were not used when initializing RobertaModel: ['classifier.out_proj.bias', 'classifier.out_proj.weight', 'classifier.dense.bias', 'classifier.dense.weight']\n",
      "- This IS expected if you are initializing RobertaModel from the checkpoint of a model trained on another task or with another architecture (e.g. initializing a BertForSequenceClassification model from a BertForPreTraining model).\n",
      "- This IS NOT expected if you are initializing RobertaModel from the checkpoint of a model that you expect to be exactly identical (initializing a BertForSequenceClassification model from a BertForSequenceClassification model).\n"
     ]
    }
   ],
   "source": [
    "# make a pipeline to get the embeddings and then predict\n",
    "from sklearn.pipeline import Pipeline\n",
    "from sklearn.base import BaseEstimator, TransformerMixin\n",
    "from sklearn.compose import TransformedTargetRegressor\n",
    "from task_d import EmbeddingsTransformer\n",
    "\n",
    "# class EmbeddingsTransformer(BaseEstimator, TransformerMixin):\n",
    "#     def __init__(self, encoder):\n",
    "#         self.encoder = encoder\n",
    "    \n",
    "#     def fit(self, X, y=None):\n",
    "#         return self\n",
    "    \n",
    "#     def transform(self, X:List[str], y=None):\n",
    "#         return self.encoder.encode(X)\n",
    "    \n",
    "def scale_probabilities(X:np.ndarray):\n",
    "    \"\"\"\n",
    "    Ensures that the probabilities of a vector sum to 1.\n",
    "    \"\"\"\n",
    "    X = X.round(4)\n",
    "    return X / X.sum(axis=1).reshape(-1, 1)\n",
    "\n",
    "# get the best params of each and train with all the data\n",
    "ada_best_params = {k.split('__')[-1]:v for k,v in gs_dict['ada']['best_params'].items()}\n",
    "lgbm_best_params = {k.split('__')[-1]:v for k,v in gs_dict['lgbm']['best_params'].items()}\n",
    "ridge_best_params = {k.split('__')[-1]:v for k,v in gs_dict['ridge']['best_params'].items()}\n",
    "\n",
    "ada_best_estimator = MultiOutputRegressor(AdaBoostRegressor(**ada_best_params))\n",
    "lgbm_best_estimator = MultiOutputRegressor(LGBMRegressor(**lgbm_best_params))\n",
    "ridge_best_estimator = MultiOutputRegressor(Ridge(**ridge_best_params))\n",
    "\n",
    "ada_best_estimator.fit(embeddings, Y)\n",
    "lgbm_best_estimator.fit(embeddings, Y)\n",
    "ridge_best_estimator.fit(embeddings, Y)\n",
    "\n",
    "ada_embedding_pipeline = Pipeline([\n",
    "    ('embeddings', EmbeddingsTransformer(model)),\n",
    "    ('estimator', gs_dict['ada']['best_estimator']),\n",
    "])\n",
    "ridge_embedding_pipeline = Pipeline([\n",
    "    ('embeddings', EmbeddingsTransformer(model)),\n",
    "    ('estimator', gs_dict['ridge']['best_estimator']),\n",
    "])\n",
    "lgbm_embedding_pipeline = Pipeline([\n",
    "    ('embeddings', EmbeddingsTransformer(model)),\n",
    "    ('estimator', gs_dict['lgbm']['best_estimator']),\n",
    "])\n",
    "\n",
    "# save the pipelines\n",
    "import pickle\n",
    "pickle.dump(ada_embedding_pipeline, open('embeddings_fe_ada_pipeline.pkl', 'wb'))\n",
    "pickle.dump(ridge_embedding_pipeline, open('embeddings_fe_ridge_pipeline.pkl', 'wb'))\n",
    "pickle.dump(lgbm_embedding_pipeline, open('embeddings_fe_lgbm_pipeline.pkl', 'wb'))"
   ]
  },
  {
   "cell_type": "code",
   "execution_count": 15,
   "metadata": {},
   "outputs": [
    {
     "name": "stdout",
     "output_type": "stream",
     "text": [
      "   suffer_in_favour  suffer_against  suffer_other  control\n",
      "0            0.3942          0.1218        0.1270   0.3570\n",
      "1            0.4886          0.1874        0.1399   0.1841\n",
      "2            0.3335          0.2416        0.1586   0.2663\n"
     ]
    },
    {
     "data": {
      "text/plain": [
       "array([1., 1., 1.])"
      ]
     },
     "execution_count": 15,
     "metadata": {},
     "output_type": "execute_result"
    }
   ],
   "source": [
    "def format_output(X:np.ndarray):\n",
    "    \"\"\"\n",
    "    Formats the output of the model to be a dataframe.\n",
    "    \"\"\"\n",
    "    return pd.DataFrame(scale_probabilities(X), columns=label_names)\n",
    "out = scale_probabilities(lgbm_embedding_pipeline.predict(['me quiero suicidar', 'me siento muy triste', 'me siento muy feliz']))\n",
    "print(format_output(out))\n",
    "out.sum(axis=1)"
   ]
  },
  {
   "cell_type": "code",
   "execution_count": null,
   "metadata": {},
   "outputs": [],
   "source": [
    "# show that it works\n",
    "# load the pipeline\n",
    "import pickle\n",
    "pipe = pickle.load(open('embeddings_fe_ada_pipeline.pkl', 'rb'))\n",
    "\n",
    "# get small sample of data\n",
    "sample_inds = np.random.choice(range(len(data)), 50, replace=False)\n",
    "y_pred_sample = pipe.predict(data.iloc[sample_inds]['message'].tolist())\n",
    "y_test_sample = data.iloc[sample_inds][label_names].values\n",
    "\n",
    "# evaluate\n",
    "r2 = r2_score(y_test_sample, y_pred_sample, multioutput='raw_values')\n",
    "rmse = mean_squared_error(y_test_sample, y_pred_sample, squared=False, multioutput='raw_values')\n",
    "print(\"Labels:\", label_names)\n",
    "print(f\"R2: {r2}\")\n",
    "print(f\"RMSE: {rmse}\")"
   ]
  },
  {
   "cell_type": "code",
   "execution_count": null,
   "metadata": {},
   "outputs": [],
   "source": [
    "# save the best estimators\n",
    "import pickle\n",
    "for name, estimator in best_estimators:\n",
    "    with open(f'{name}_estimator.pkl', 'wb') as f:\n",
    "        pickle.dump(estimator, f)"
   ]
  },
  {
   "cell_type": "code",
   "execution_count": 71,
   "metadata": {},
   "outputs": [
    {
     "name": "stderr",
     "output_type": "stream",
     "text": [
      "[codecarbon INFO @ 15:27:33] [setup] RAM Tracking...\n",
      "[codecarbon INFO @ 15:27:33] [setup] GPU Tracking...\n",
      "[codecarbon INFO @ 15:27:33] No GPU found.\n",
      "[codecarbon INFO @ 15:27:33] [setup] CPU Tracking...\n",
      "[codecarbon DEBUG @ 15:27:33] Not using PowerGadget, an exception occurred while instantiating IntelPowerGadget : Intel Power Gadget executable not found on darwin\n",
      "[codecarbon DEBUG @ 15:27:33] Not using the RAPL interface, an exception occurred while instantiating IntelRAPL : Platform not supported by Intel RAPL Interface\n",
      "[codecarbon WARNING @ 15:27:33] No CPU tracking mode found. Falling back on CPU constant mode.\n",
      "[codecarbon DEBUG @ 15:27:33] CPU : We detect a Apple M1 Pro with a TDP of 10 W\n",
      "[codecarbon INFO @ 15:27:33] CPU Model on constant consumption mode: Apple M1 Pro\n",
      "[codecarbon INFO @ 15:27:33] >>> Tracker's metadata:\n",
      "[codecarbon INFO @ 15:27:33]   Platform system: macOS-13.0-arm64-arm-64bit\n",
      "[codecarbon INFO @ 15:27:33]   Python version: 3.8.16\n",
      "[codecarbon INFO @ 15:27:33]   CodeCarbon version: 2.2.1\n",
      "[codecarbon INFO @ 15:27:33]   Available RAM : 16.000 GB\n",
      "[codecarbon INFO @ 15:27:33]   CPU count: 10\n",
      "[codecarbon INFO @ 15:27:33]   CPU model: Apple M1 Pro\n",
      "[codecarbon INFO @ 15:27:33]   GPU count: None\n",
      "[codecarbon INFO @ 15:27:33]   GPU model: None\n",
      "[codecarbon DEBUG @ 15:27:34] Not running on AWS\n",
      "[codecarbon DEBUG @ 15:27:35] Not running on Azure\n",
      "[codecarbon DEBUG @ 15:27:36] Not running on GCP\n",
      "[codecarbon INFO @ 15:27:36] Energy consumed for RAM : 0.000000 kWh. RAM Power : 0.09688568115234375 W\n",
      "[codecarbon DEBUG @ 15:27:36] RAM : 0.10 W during 0.03 s [measurement time: 0.0039]\n",
      "[codecarbon INFO @ 15:27:36] Energy consumed for all CPUs : 0.000000 kWh. Total CPU Power : 5.0 W\n",
      "[codecarbon DEBUG @ 15:27:36] CPU : 5.00 W during 0.04 s [measurement time: 0.0004]\n",
      "[codecarbon INFO @ 15:27:36] 0.000000 kWh of electricity used since the beginning.\n",
      "[codecarbon DEBUG @ 15:27:36] last_duration=0.03795504570007324\n",
      "------------------------\n",
      "[codecarbon DEBUG @ 15:27:36] We apply an energy mix of 190 g.CO2eq/kWh for Spain\n",
      "[codecarbon DEBUG @ 15:27:36] EmissionsData(timestamp='2023-05-22T15:27:36', project_name='codecarbon', run_id='052ab128-8cd1-4606-930b-5a826582f1c3', duration=0.039170026779174805, emissions=1.0169792481262145e-08, emissions_rate=2.5963200226018307e-07, cpu_power=5.0, gpu_power=0.0, ram_power=0.09688568115234375, cpu_energy=5.271534125010172e-08, gpu_energy=0, ram_energy=8.098823354885099e-10, energy_consumed=5.352522358559023e-08, country_name='Spain', country_iso_code='ESP', region='madrid', cloud_provider='', cloud_region='', os='macOS-13.0-arm64-arm-64bit', python_version='3.8.16', codecarbon_version='2.2.1', cpu_count=10, cpu_model='Apple M1 Pro', gpu_count=None, gpu_model=None, longitude=-3.7582, latitude=40.3307, ram_total_size=16.0, tracking_mode='process', on_cloud='N')\n",
      "[codecarbon WARNING @ 15:27:36] Already started tracking\n",
      "[codecarbon WARNING @ 15:27:36] Tracker already stopped !\n",
      "[codecarbon DEBUG @ 15:27:36] We apply an energy mix of 190 g.CO2eq/kWh for Spain\n",
      "[codecarbon DEBUG @ 15:27:36] EmissionsData(timestamp='2023-05-22T15:27:36', project_name='codecarbon', run_id='052ab128-8cd1-4606-930b-5a826582f1c3', duration=0.05427384376525879, emissions=1.0169792481262145e-08, emissions_rate=1.8737925629973397e-07, cpu_power=5.0, gpu_power=0.0, ram_power=0.09688568115234375, cpu_energy=5.271534125010172e-08, gpu_energy=0, ram_energy=8.098823354885099e-10, energy_consumed=5.352522358559023e-08, country_name='Spain', country_iso_code='ESP', region='madrid', cloud_provider='', cloud_region='', os='macOS-13.0-arm64-arm-64bit', python_version='3.8.16', codecarbon_version='2.2.1', cpu_count=10, cpu_model='Apple M1 Pro', gpu_count=None, gpu_model=None, longitude=-3.7582, latitude=40.3307, ram_total_size=16.0, tracking_mode='process', on_cloud='N')\n",
      "[codecarbon WARNING @ 15:27:36] Already started tracking\n",
      "[codecarbon WARNING @ 15:27:36] Tracker already stopped !\n",
      "[codecarbon DEBUG @ 15:27:36] We apply an energy mix of 190 g.CO2eq/kWh for Spain\n",
      "[codecarbon DEBUG @ 15:27:36] EmissionsData(timestamp='2023-05-22T15:27:36', project_name='codecarbon', run_id='052ab128-8cd1-4606-930b-5a826582f1c3', duration=0.09175705909729004, emissions=1.0169792481262145e-08, emissions_rate=1.1083389748225377e-07, cpu_power=5.0, gpu_power=0.0, ram_power=0.09688568115234375, cpu_energy=5.271534125010172e-08, gpu_energy=0, ram_energy=8.098823354885099e-10, energy_consumed=5.352522358559023e-08, country_name='Spain', country_iso_code='ESP', region='madrid', cloud_provider='', cloud_region='', os='macOS-13.0-arm64-arm-64bit', python_version='3.8.16', codecarbon_version='2.2.1', cpu_count=10, cpu_model='Apple M1 Pro', gpu_count=None, gpu_model=None, longitude=-3.7582, latitude=40.3307, ram_total_size=16.0, tracking_mode='process', on_cloud='N')\n"
     ]
    }
   ],
   "source": [
    "# evaluate which consumes the least energy\n",
    "from codecarbon import EmissionsTracker\n",
    "import time\n",
    "tracker_config = {\n",
    "    \"save_to_file\": True,\n",
    "    \"log_level\": \"DEBUG\",\n",
    "    \"tracking_mode\": \"process\",\n",
    "    \"output_dir\": \".\", \n",
    "}\n",
    "tracker = EmissionsTracker(**tracker_config)\n",
    "emissions_dict = {}\n",
    "for name, estimator in best_estimators:\n",
    "    tracker.start()\n",
    "    tstart = time.time()\n",
    "    # embeddings = model.encode(data['message'].values.tolist())\n",
    "    y_pred = estimator.predict(embeddings)\n",
    "    time_taken = time.time() - tstart\n",
    "    emissions_dict[name] = {'emmisions': tracker.stop()}\n",
    "    emissions_dict[name]['time_taken'] = time_taken\n"
   ]
  },
  {
   "attachments": {},
   "cell_type": "markdown",
   "metadata": {},
   "source": [
    "With PCA (Principal Component Analysis):"
   ]
  },
  {
   "cell_type": "code",
   "execution_count": 43,
   "metadata": {},
   "outputs": [
    {
     "name": "stdout",
     "output_type": "stream",
     "text": [
      "(157, 67) (28, 67)\n"
     ]
    }
   ],
   "source": [
    "# with PCA\n",
    "from sklearn.decomposition import PCA\n",
    "\n",
    "pca = PCA(n_components=0.95)\n",
    "X_train_pca = pca.fit_transform(X_train)\n",
    "X_test_pca = pca.transform(X_test)\n",
    "print(X_train_pca.shape, X_test_pca.shape)\n",
    "\n",
    "X_train = X_train_pca\n",
    "X_test = X_test_pca"
   ]
  },
  {
   "cell_type": "code",
   "execution_count": 44,
   "metadata": {},
   "outputs": [
    {
     "name": "stdout",
     "output_type": "stream",
     "text": [
      "Fitting 3 folds for each of 15 candidates, totalling 45 fits\n",
      "Best score: 0.1511\n",
      "Best params for Ada: {'estimator__learning_rate': 1.0, 'estimator__n_estimators': 250}\n",
      "Fitting 3 folds for each of 80 candidates, totalling 240 fits\n",
      "Best score: 0.1251\n",
      "Best params for Lgbm: {'estimator__learning_rate': 0.1, 'estimator__max_depth': 5, 'estimator__n_estimators': 50}\n",
      "Fitting 3 folds for each of 105 candidates, totalling 315 fits\n",
      "Best score: 0.2748\n",
      "Best params for Ridge: {'estimator__alpha': 3.1623, 'estimator__solver': 'saga'}\n"
     ]
    },
    {
     "data": {
      "text/html": [
       "<div>\n",
       "<style scoped>\n",
       "    .dataframe tbody tr th:only-of-type {\n",
       "        vertical-align: middle;\n",
       "    }\n",
       "\n",
       "    .dataframe tbody tr th {\n",
       "        vertical-align: top;\n",
       "    }\n",
       "\n",
       "    .dataframe thead th {\n",
       "        text-align: right;\n",
       "    }\n",
       "</style>\n",
       "<table border=\"1\" class=\"dataframe\">\n",
       "  <thead>\n",
       "    <tr style=\"text-align: right;\">\n",
       "      <th>r2</th>\n",
       "      <th>suffer_in_favour</th>\n",
       "      <th>suffer_against</th>\n",
       "      <th>suffer_other</th>\n",
       "      <th>control</th>\n",
       "    </tr>\n",
       "  </thead>\n",
       "  <tbody>\n",
       "    <tr>\n",
       "      <th>ada</th>\n",
       "      <td>0.096638</td>\n",
       "      <td>0.284137</td>\n",
       "      <td>0.045196</td>\n",
       "      <td>0.553737</td>\n",
       "    </tr>\n",
       "    <tr>\n",
       "      <th>lgbm</th>\n",
       "      <td>0.107292</td>\n",
       "      <td>0.169964</td>\n",
       "      <td>0.043473</td>\n",
       "      <td>0.539874</td>\n",
       "    </tr>\n",
       "    <tr>\n",
       "      <th>ridge</th>\n",
       "      <td>0.479534</td>\n",
       "      <td>0.265964</td>\n",
       "      <td>-0.030321</td>\n",
       "      <td>0.665274</td>\n",
       "    </tr>\n",
       "  </tbody>\n",
       "</table>\n",
       "</div>"
      ],
      "text/plain": [
       "r2     suffer_in_favour  suffer_against  suffer_other   control\n",
       "ada            0.096638        0.284137      0.045196  0.553737\n",
       "lgbm           0.107292        0.169964      0.043473  0.539874\n",
       "ridge          0.479534        0.265964     -0.030321  0.665274"
      ]
     },
     "metadata": {},
     "output_type": "display_data"
    },
    {
     "data": {
      "text/html": [
       "<div>\n",
       "<style scoped>\n",
       "    .dataframe tbody tr th:only-of-type {\n",
       "        vertical-align: middle;\n",
       "    }\n",
       "\n",
       "    .dataframe tbody tr th {\n",
       "        vertical-align: top;\n",
       "    }\n",
       "\n",
       "    .dataframe thead th {\n",
       "        text-align: right;\n",
       "    }\n",
       "</style>\n",
       "<table border=\"1\" class=\"dataframe\">\n",
       "  <thead>\n",
       "    <tr style=\"text-align: right;\">\n",
       "      <th>rmse</th>\n",
       "      <th>suffer_in_favour</th>\n",
       "      <th>suffer_against</th>\n",
       "      <th>suffer_other</th>\n",
       "      <th>control</th>\n",
       "    </tr>\n",
       "  </thead>\n",
       "  <tbody>\n",
       "    <tr>\n",
       "      <th>ada</th>\n",
       "      <td>0.264421</td>\n",
       "      <td>0.181908</td>\n",
       "      <td>0.099382</td>\n",
       "      <td>0.266647</td>\n",
       "    </tr>\n",
       "    <tr>\n",
       "      <th>lgbm</th>\n",
       "      <td>0.262857</td>\n",
       "      <td>0.195877</td>\n",
       "      <td>0.099472</td>\n",
       "      <td>0.270757</td>\n",
       "    </tr>\n",
       "    <tr>\n",
       "      <th>ridge</th>\n",
       "      <td>0.200706</td>\n",
       "      <td>0.184202</td>\n",
       "      <td>0.103238</td>\n",
       "      <td>0.230933</td>\n",
       "    </tr>\n",
       "  </tbody>\n",
       "</table>\n",
       "</div>"
      ],
      "text/plain": [
       "rmse   suffer_in_favour  suffer_against  suffer_other   control\n",
       "ada            0.264421        0.181908      0.099382  0.266647\n",
       "lgbm           0.262857        0.195877      0.099472  0.270757\n",
       "ridge          0.200706        0.184202      0.103238  0.230933"
      ]
     },
     "metadata": {},
     "output_type": "display_data"
    }
   ],
   "source": [
    "def fit_grid_pca(estimator, param_grid):\n",
    "    grid = GridSearchCV(\n",
    "        estimator=estimator,\n",
    "        param_grid=param_grid,\n",
    "        cv=3,\n",
    "        verbose=1,\n",
    "        n_jobs=-1\n",
    "    )\n",
    "    grid.fit(X_train_pca, y_train)\n",
    "    print(f\"Best score: {grid.best_score_:.4f}\")\n",
    "    return grid.best_estimator_, grid.best_params_\n",
    "\n",
    "gs_dict = {}\n",
    "for name, params, estimator in est_params:\n",
    "    best_estimator, best_params = fit_grid_pca(MultiOutputRegressor(estimator), params)\n",
    "    gs_dict[name] = {'best_params': best_params, 'best_estimator': best_estimator}\n",
    "    print(f\"Best params for {name.title()}: {best_params}\")\n",
    "\n",
    "best_estimators = [(name, gs_dict[name]['best_estimator']) for name in gs_dict.keys()]\n",
    "r2_metrics_best = metrics_for_estimators(best_estimators, r2_score)\n",
    "rmse_metrics_best = metrics_for_estimators(best_estimators, partial(mean_squared_error, squared=False))\n",
    "\n",
    "r2_df_best = pd.DataFrame(r2_metrics_best, index=label_names).T.rename_axis('r2', axis=1)\n",
    "rmse_df_best = pd.DataFrame(rmse_metrics_best, index=label_names).T.rename_axis('rmse', axis=1)\n",
    "display(r2_df_best)\n",
    "display(rmse_df_best)"
   ]
  }
 ],
 "metadata": {
  "kernelspec": {
   "display_name": "tf-env",
   "language": "python",
   "name": "python3"
  },
  "language_info": {
   "codemirror_mode": {
    "name": "ipython",
    "version": 3
   },
   "file_extension": ".py",
   "mimetype": "text/x-python",
   "name": "python",
   "nbconvert_exporter": "python",
   "pygments_lexer": "ipython3",
   "version": "3.8.16"
  },
  "orig_nbformat": 4,
  "vscode": {
   "interpreter": {
    "hash": "737058b5fd771837a459d38124f1435f0ba440e2f6c9fded2af6364b02fabd91"
   }
  }
 },
 "nbformat": 4,
 "nbformat_minor": 2
}
